{
 "cells": [
  {
   "cell_type": "code",
   "execution_count": 1,
   "metadata": {},
   "outputs": [
    {
     "name": "stdout",
     "output_type": "stream",
     "text": [
      "100[5050.0]"
     ]
    }
   ],
   "source": [
    "import org.apache.spark.mllib.linalg.{Vector, Vectors}\n",
    "import org.apache.spark.mllib.stat.{MultivariateStatisticalSummary, Statistics}\n",
    "val data = sc.parallelize(1 to 100, 2)\n",
    "val data1 = data.map(x => Vectors.dense(x))\n",
    "val stat1 = Statistics.colStats(data1)\n",
    "// 可求stat1的统计值：count、max、min、mean、norML1、norML2、numNonzeros、variance\n",
    "print(stat1.count)\n",
    "print(stat1.normL1)"
   ]
  },
  {
   "cell_type": "code",
   "execution_count": 2,
   "metadata": {},
   "outputs": [
    {
     "name": "stdout",
     "output_type": "stream",
     "text": [
      "0.479329227200400940.3999999999999999"
     ]
    }
   ],
   "source": [
    "import org.apache.spark.SparkContext\n",
    "import org.apache.spark.mllib.linalg._\n",
    "import org.apache.spark.mllib.stat.Statistics\n",
    "// 相关性\n",
    "val x = sc.parallelize(Array(1.0, 2.0, 3.0, 3.2, 2.6))\n",
    "val y = sc.parallelize(Array(4.0, 5.0, 6.0, 4.2, 5.6))\n",
    "\n",
    "val corr_r = Statistics.corr(x, y, \"pearson\")\n",
    "val corr_p = Statistics.corr(x, y, \"spearman\")\n",
    "\n",
    "print(corr_r)\n",
    "print(corr_p)"
   ]
  },
  {
   "cell_type": "code",
   "execution_count": null,
   "metadata": {},
   "outputs": [],
   "source": []
  }
 ],
 "metadata": {
  "kernelspec": {
   "display_name": "Apache Toree - Scala",
   "language": "scala",
   "name": "apache_toree_scala"
  },
  "language_info": {
   "file_extension": ".scala",
   "name": "scala",
   "version": "2.11.8"
  }
 },
 "nbformat": 4,
 "nbformat_minor": 2
}
